{
 "cells": [
  {
   "cell_type": "markdown",
   "metadata": {},
   "source": [
    "# Moon Data Processing Notebook\n",
    "### Beginning the process of processing the QAG Moon bounce data from Sep 10, 2021\n",
    "#### Jon Richards - SETI Institute Quantum Astronomy Group\n",
    "#### This code draws a frequency spectrum from the data"
   ]
  },
  {
   "cell_type": "code",
   "execution_count": 1,
   "metadata": {},
   "outputs": [],
   "source": [
    "import time\n",
    "import numpy as np\n",
    "import matplotlib.pyplot as plt\n",
    "from scipy.fft import fft, fftfreq\n",
    "import scipy.fftpack\n",
    "from scipy.signal import argrelextrema\n",
    "\n",
    "from pylab import rcParams\n",
    "rcParams['figure.figsize'] = 15, 4"
   ]
  },
  {
   "cell_type": "code",
   "execution_count": 12,
   "metadata": {},
   "outputs": [],
   "source": [
    "# Define the data we will use.\n",
    "\n",
    "# Lower case dish names!\n",
    "data_file_path = '/Volumes/QAG Disk 1/data/moon_09102021'\n",
    "#data_files = ['5b_x.dat', '5b_y.dat', '1h_x.dat', '1h_y.dat']\n",
    "dish_names = ['5b', '1h']\n",
    "\n",
    "# Dishes 1h and 5b. Their XYZ ECEF coordinates in meters are:\n",
    "# Lower case dish names!\n",
    "dishes = [{ 'name' : '1h',\n",
    "            'x' : '1h_x.dat',\n",
    "            'y' : '1h_y.dat',\n",
    "            'XYZ' : [-2524203.0583488033, -4123430.8743299064, 4147685.0269737383] },\n",
    "          { 'name' : '5b', \n",
    "            'x' : '1h_x.dat',\n",
    "            'y' : '1h_y.dat',\n",
    "            'XYZ' : [-2523924.2759636184, -4123447.7050980935, 4147836.6033990188] } ]"
   ]
  },
  {
   "cell_type": "code",
   "execution_count": 22,
   "metadata": {},
   "outputs": [
    {
     "name": "stdout",
     "output_type": "stream",
     "text": [
      "/Volumes/QAG Disk 1/data/moon_09102021/1h_x.dat\n"
     ]
    }
   ],
   "source": [
    "# Function to create the full path filename for a dish/pol\n",
    "def get_datafile_fullpath(dish_name, pol):\n",
    "    \"\"\"\n",
    "    Create the full path filename for a dish/pol\n",
    "    \n",
    "    Argumants:\n",
    "        dish_name - name of the dish, like 1h or 5b\n",
    "        pol       - 'x' or 'y' to specify the polarixation in the filename\n",
    "        \n",
    "    Returns:\n",
    "        The full path filename. None if dish_name is not in the list\n",
    "    \"\"\"\n",
    "    \n",
    "    if dish_name == None or len(dish_name) != 2:\n",
    "        return None\n",
    "    if pol != 'x' and pol != 'y':\n",
    "        return None\n",
    "    \n",
    "    for dish in dishes:\n",
    "        name = dish.get('name')\n",
    "        if name == dish_name.lower():\n",
    "            full_path = f\"{data_file_path}/{dish[pol]}\"\n",
    "            return full_path\n",
    "        \n",
    "    return None\n",
    "\n",
    "#print(get_datafile_fullpath('1h', 'x'))\n",
    "    "
   ]
  },
  {
   "cell_type": "code",
   "execution_count": 23,
   "metadata": {},
   "outputs": [],
   "source": [
    "def readBlock(file, num_samples):\n",
    "    \"\"\" \n",
    "    Read the next FFT sized block of 16-bit I/Q data from an opened file.\n",
    "    \n",
    "    Arguments:\n",
    "        file - The reference to the data file, already opened.\n",
    "        num_samples - The number of 16-bit I/Q samples to read in.\n",
    "            Example, If you FFT SIZE is 1024, the num_samples should\n",
    "            be 1024. 2048 16-bit samples (4096 bytes total) will be \n",
    "            read and unpacked from the file.\n",
    "            \n",
    "        Return - A Numpy array of \"num_samples\" Complex64 values.\n",
    "            None if the read is past the end of the file.\n",
    "    \n",
    "    \"\"\"\n",
    "    # Read the bytes from the file\n",
    "    data_raw = np.fromfile(file, dtype=np.int16, count=num_samples*2)\n",
    "    \n",
    "    # Create a Complex64 Numpy array to hold the values\n",
    "    data = np.zeros((num_samples,), dtype=np.complex64)\n",
    "    \n",
    "    # Reassemble the int16 aray into the Complex64 array.\n",
    "    # Use a try block to catch the condition where the end of the file\n",
    "    # has been passed.\n",
    "    try:\n",
    "        data[:] = (data_raw[0::2]) + 1j*(data_raw[1::2])\n",
    "    except:\n",
    "        return None\n",
    "    \n",
    "    return data"
   ]
  },
  {
   "cell_type": "code",
   "execution_count": 24,
   "metadata": {},
   "outputs": [],
   "source": [
    "def calFreqRangeForAxis(center_hz, bw_hz):\n",
    "    \n",
    "    \"\"\"\n",
    "    For the X axis tick mark labels, calculate the frequency min/max/center\n",
    "    \n",
    "    Arguments:\n",
    "        center_hz - The center frequency of the signal, in Hertz.\n",
    "        bw_hz - The bandwidth of the signal, in Hertz.\n",
    "        \n",
    "    Returns - A tuple of the \n",
    "        min frequency od the signal, in MHz\n",
    "        max frequency od the signal, in MHz\n",
    "        center frequency od the signal, in MHz\n",
    "        \n",
    "    \"\"\"\n",
    "    min_hz = center_hz - bw_hz/2.0\n",
    "    max_hz = center_hz + bw_hz/2.0\n",
    "    \n",
    "    return (min_hz/1000000.0, max_hz/1000000., center_hz/1000000.)"
   ]
  },
  {
   "cell_type": "code",
   "execution_count": 9,
   "metadata": {},
   "outputs": [
    {
     "data": {
      "image/png": "[encoded data removed]",
      "text/plain": [
       "<Figure size 1080x288 with 1 Axes>"
      ]
     },
     "metadata": {
      "needs_background": "light"
     },
     "output_type": "display_data"
    }
   ],
   "source": [
    "# Perform the FFT and store the result for later plotting.\n",
    "# The FFT result will be accumulated in a one dimensional Numpy array\n",
    "# of length equal to the FFT_SIZE\n",
    "\n",
    "# Define some constants. Here you may wish to change the FFT_SIZE\n",
    "FFT_SIZE = 1960000\n",
    "CENTER_FREQ_HZ = 1296000000\n",
    "BANDWIDTH_HZ   = 1920000\n",
    "MHZ = 1048576.0\n",
    "\n",
    "#START_CHAN = 1230880\n",
    "#END_CHAN = 1313200\n",
    "START_CHAN = 0\n",
    "END_CHAN = 1960000\n",
    "NUM_CHANS = END_CHAN - START_CHAN\n",
    "\n",
    "# Create an array to hold the accumulation for each bin\n",
    "fft_acc = np.zeros((NUM_CHANS, ))\n",
    "\n",
    "# How many FFT_SIZE chunks to process. Ideally we would like to\n",
    "# process the entire channel, but during code development we may\n",
    "# wish to read in a smaller number. Reading in the large data files\n",
    "# takes a lot of time.\n",
    "NUM = 10000000\n",
    "\n",
    "# Open the file\n",
    "file = open(data_file_path, \"rb\")\n",
    "\n",
    "file.seek(40000000000)\n",
    "\n",
    "# Keep a counter of the number of FFT_SIZE length chunks we processed.\n",
    "count = 0\n",
    "\n",
    "# Loop through the file. \n",
    "for i in range(NUM):\n",
    "    \n",
    "    #if count % 100000 == 0:\n",
    "    #    print(count)\n",
    "    \n",
    "    # Read the next block of data from the file\n",
    "    d = readBlock(file, FFT_SIZE)\n",
    "    \n",
    "    # If None is retruned, this signifies we read to the end of the file.\n",
    "    # Break out of the loop.\n",
    "    if d is None:\n",
    "        break\n",
    "        \n",
    "    # Perform the FFT\n",
    "    yf = scipy.fftpack.fft(d, n=FFT_SIZE, axis=0)\n",
    "    \n",
    "    # Add the results of the FFTp to the fft_acc Numpy array\n",
    "    np.add(np.abs(yf[START_CHAN:END_CHAN]), fft_acc, out=fft_acc)\n",
    "    \n",
    "    count += 1\n",
    "    \n",
    "# Make sure to close the file!\n",
    "file.close()\n",
    "\n",
    "# A strange artifact of the FFTp process is that the upper and lower\n",
    "# halved are swapped. The fftshift swaps them back to the correct order.\n",
    "fft_acc_temp = scipy.fft.fftshift(fft_acc) \n",
    "fft_acc = fft_acc_temp\n",
    "\n",
    "# Draw a plot of the results\n",
    "fig, ax = plt.subplots(1,1)\n",
    "\n",
    "# Get the min/max freqs, in MHz, of the signal\n",
    "chan_freq_range_info = calFreqRangeForAxis(CENTER_FREQ_HZ, BANDWIDTH_HZ)\n",
    "\n",
    "# Create a list of the frequencies for the X Axis labels at the tick marks\n",
    "chan_min_freq_mhz = chan_freq_range_info[0]\n",
    "freqs_for_xaxis = [(chan_min_freq_mhz + (f*(BANDWIDTH_HZ/FFT_SIZE))/MHZ) for f in range(NUM_CHANS)]\n",
    "\n",
    "# Label the axex\n",
    "ax.set_xlabel('Frequency - MHz', fontsize=16)\n",
    "ax.set_ylabel('Counts', fontsize=16)\n",
    "\n",
    "# Create the plot\n",
    "ax.plot(freqs_for_xaxis, fft_acc)\n",
    "\n",
    "# Make the Y axis be log\n",
    "ax.set_yscale('log')\n",
    "\n",
    "# Draw a red vertical line at the center frequency, for a visual reference.\n",
    "#ax.axvline(x=CENTER_FREQ_HZ/1000000.0, color='red', alpha=0.2)\n",
    "\n",
    "# Show the plot.\n",
    "plt.show()\n",
    "\n"
   ]
  },
  {
   "cell_type": "code",
   "execution_count": 25,
   "metadata": {},
   "outputs": [
    {
     "ename": "NameError",
     "evalue": "name 'FFT_SIZE' is not defined",
     "output_type": "error",
     "traceback": [
      "\u001b[0;31m---------------------------------------------------------------------------\u001b[0m",
      "\u001b[0;31mNameError\u001b[0m                                 Traceback (most recent call last)",
      "\u001b[0;32m<ipython-input-25-b05affa748d9>\u001b[0m in \u001b[0;36m<module>\u001b[0;34m\u001b[0m\n\u001b[1;32m      1\u001b[0m \u001b[0;31m# Now we can refine the plot to look at certain sections\u001b[0m\u001b[0;34m\u001b[0m\u001b[0;34m\u001b[0m\u001b[0;34m\u001b[0m\u001b[0m\n\u001b[1;32m      2\u001b[0m \u001b[0;34m\u001b[0m\u001b[0m\n\u001b[0;32m----> 3\u001b[0;31m \u001b[0mprint\u001b[0m\u001b[0;34m(\u001b[0m\u001b[0mFFT_SIZE\u001b[0m\u001b[0;34m)\u001b[0m\u001b[0;34m\u001b[0m\u001b[0;34m\u001b[0m\u001b[0m\n\u001b[0m\u001b[1;32m      4\u001b[0m \u001b[0mSTART_CHAN\u001b[0m \u001b[0;34m=\u001b[0m \u001b[0mint\u001b[0m\u001b[0;34m(\u001b[0m\u001b[0mFFT_SIZE\u001b[0m \u001b[0;34m*\u001b[0m \u001b[0;36m0.63088\u001b[0m\u001b[0;34m)\u001b[0m\u001b[0;34m\u001b[0m\u001b[0;34m\u001b[0m\u001b[0m\n\u001b[1;32m      5\u001b[0m \u001b[0mEND_CHAN\u001b[0m \u001b[0;34m=\u001b[0m \u001b[0mint\u001b[0m\u001b[0;34m(\u001b[0m\u001b[0mFFT_SIZE\u001b[0m \u001b[0;34m*\u001b[0m \u001b[0;36m0.63093\u001b[0m\u001b[0;34m)\u001b[0m\u001b[0;34m\u001b[0m\u001b[0;34m\u001b[0m\u001b[0m\n",
      "\u001b[0;31mNameError\u001b[0m: name 'FFT_SIZE' is not defined"
     ]
    }
   ],
   "source": [
    "# Now we can refine the plot to look at certain sections\n",
    "\n",
    "print(FFT_SIZE)\n",
    "START_CHAN = int(FFT_SIZE * 0.63088)\n",
    "END_CHAN = int(FFT_SIZE * 0.63093)\n",
    "\n",
    "#START_CHAN = 1230880\n",
    "#END_CHAN = 1313200\n",
    "\n",
    "#START_CHAN = int(START_CHAN + NUM_CHANS*0.0)\n",
    "#END_CHAN = int(START_CHAN + NUM_CHANS*0.1)\n",
    "NUM_CHANS = END_CHAN - START_CHAN\n",
    "\n",
    "print(START_CHAN, END_CHAN, NUM_CHANS)\n",
    "\n",
    "\n",
    "fig, ax = plt.subplots(1,1)\n",
    "\n",
    "chan_freq_range_info = calFreqRangeForAxis(CENTER_FREQ_HZ, BANDWIDTH_HZ)\n",
    "#print(chan_freq_range_info)\n",
    "ax.ticklabel_format(useOffset=False)\n",
    "#ax.set_xticks(chan_freq_range_info)\n",
    "\n",
    "ax.set_xlabel('Frequency - MHz', fontsize=16)\n",
    "ax.set_ylabel('Counts', fontsize=16)\n",
    "chan_min_freq_mhz = chan_freq_range_info[0]\n",
    "#print(f\"min={chan_min_freq_mhz}\")\n",
    "freqs_for_xaxis = [(chan_min_freq_mhz + (f*(BANDWIDTH_HZ/FFT_SIZE))/MHZ) for f in range(FFT_SIZE)]\n",
    "print(len(freqs_for_xaxis[START_CHAN:END_CHAN]), len(fft_acc[START_CHAN:END_CHAN]))\n",
    "print(len(freqs_for_xaxis), len(fft_acc))\n",
    "\n",
    "#print(chan_min_freq_mhz)\n",
    "#print(freqs_for_xaxis[0], freqs_for_xaxis[-1], len(freqs_for_xaxis), len(p2))\n",
    "#ax.plot(freqs_for_xaxis[START_CHAN:END_CHAN], fft_acc[START_CHAN:END_CHAN])\n",
    "ax.plot(freqs_for_xaxis[START_CHAN:END_CHAN], fft_acc[START_CHAN:END_CHAN])\n",
    "\n",
    "ax.set_yscale('log')\n",
    "#ax.axvline(x=CENTER_FREQ_HZ/1000000.0, color='red', alpha=0.2)\n",
    "\n",
    "ax.set_title('Frequency Spectrum', fontsize= 16, fontweight=\"bold\")\n",
    "\n",
    "plt.show()\n",
    "\n"
   ]
  },
  {
   "cell_type": "code",
   "execution_count": 59,
   "metadata": {},
   "outputs": [
    {
     "name": "stdout",
     "output_type": "stream",
     "text": [
      "1960000\n",
      "1236524 1236622 98\n",
      "98 98\n",
      "1960000 1960000\n"
     ]
    },
    {
     "data": {
      "image/png": "[encoded data removed]",
      "text/plain": [
       "<Figure size 1080x288 with 1 Axes>"
      ]
     },
     "metadata": {
      "needs_background": "light"
     },
     "output_type": "display_data"
    }
   ],
   "source": [
    "# Now we can refine the plot to look at certain sections\n",
    "\n",
    "print(FFT_SIZE)\n",
    "START_CHAN = int(FFT_SIZE * 0.63088)\n",
    "END_CHAN = int(FFT_SIZE * 0.63093)\n",
    "\n",
    "#START_CHAN = 1230880\n",
    "#END_CHAN = 1313200\n",
    "\n",
    "#START_CHAN = int(START_CHAN + NUM_CHANS*0.0)\n",
    "#END_CHAN = int(START_CHAN + NUM_CHANS*0.1)\n",
    "NUM_CHANS = END_CHAN - START_CHAN\n",
    "\n",
    "print(START_CHAN, END_CHAN, NUM_CHANS)\n",
    "\n",
    "\n",
    "fig, ax = plt.subplots(1,1)\n",
    "\n",
    "chan_freq_range_info = calFreqRangeForAxis(CENTER_FREQ_HZ, BANDWIDTH_HZ)\n",
    "#print(chan_freq_range_info)\n",
    "ax.ticklabel_format(useOffset=False)\n",
    "#ax.set_xticks(chan_freq_range_info)\n",
    "\n",
    "ax.set_xlabel('Frequency - MHz', fontsize=16)\n",
    "ax.set_ylabel('Counts', fontsize=16)\n",
    "chan_min_freq_mhz = chan_freq_range_info[0]\n",
    "#print(f\"min={chan_min_freq_mhz}\")\n",
    "freqs_for_xaxis = [(chan_min_freq_mhz + (f*(BANDWIDTH_HZ/FFT_SIZE))/MHZ) for f in range(FFT_SIZE)]\n",
    "print(len(freqs_for_xaxis[START_CHAN:END_CHAN]), len(fft_acc[START_CHAN:END_CHAN]))\n",
    "print(len(freqs_for_xaxis), len(fft_acc))\n",
    "\n",
    "#print(chan_min_freq_mhz)\n",
    "#print(freqs_for_xaxis[0], freqs_for_xaxis[-1], len(freqs_for_xaxis), len(p2))\n",
    "#ax.plot(freqs_for_xaxis[START_CHAN:END_CHAN], fft_acc[START_CHAN:END_CHAN])\n",
    "ax.plot(freqs_for_xaxis[START_CHAN:END_CHAN], fft_acc[START_CHAN:END_CHAN])\n",
    "\n",
    "ax.set_yscale('log')\n",
    "#ax.axvline(x=CENTER_FREQ_HZ/1000000.0, color='red', alpha=0.2)\n",
    "\n",
    "ax.set_title('Frequency Spectrum', fontsize= 16, fontweight=\"bold\")\n",
    "\n",
    "plt.show()\n"
   ]
  },
  {
   "cell_type": "code",
   "execution_count": null,
   "metadata": {},
   "outputs": [],
   "source": []
  }
 ],
 "metadata": {
  "kernelspec": {
   "display_name": "Python 3",
   "language": "python",
   "name": "python3"
  },
  "language_info": {
   "codemirror_mode": {
    "name": "ipython",
    "version": 3
   },
   "file_extension": ".py",
   "mimetype": "text/x-python",
   "name": "python",
   "nbconvert_exporter": "python",
   "pygments_lexer": "ipython3",
   "version": "3.8.5"
  }
 },
 "nbformat": 4,
 "nbformat_minor": 4
}
