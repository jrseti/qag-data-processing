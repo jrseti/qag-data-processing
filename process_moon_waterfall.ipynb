{
 "cells": [
  {
   "cell_type": "code",
   "execution_count": 1,
   "metadata": {},
   "outputs": [],
   "source": [
    "# Moon Data Processing Notebook\n",
    "### Beginning the process of processing the QAG Moon bounce data from Sep 10, 2021\n",
    "#### Jon Richards - SETI Institute Quantum Astronomy Group\n",
    "#### This code draws a waterfall plot from the data"
   ]
  },
  {
   "cell_type": "code",
   "execution_count": 2,
   "metadata": {},
   "outputs": [],
   "source": [
    "import time\n",
    "import numpy as np\n",
    "import matplotlib.pyplot as plt\n",
    "from scipy.fft import fft, fftfreq\n",
    "import scipy.fftpack\n",
    "from scipy.signal import argrelextrema\n",
    "\n",
    "from pylab import rcParams\n",
    "rcParams['figure.figsize'] = 15, 4"
   ]
  },
  {
   "cell_type": "code",
   "execution_count": 3,
   "metadata": {},
   "outputs": [],
   "source": [
    "# Define the path to the data file we wish to process\n",
    "data_file_path = \"/Volumes/QAG Backup/data/moon_09102021/moon_2021-09-10T22_19_57.781495_1y\"\n",
    "#data_file_path = \"/Volumes/QAG Backup/data/moon_09102021/moon_2021-09-10T22_19_57.781495_0x\"\n",
    "#data_file_path = \"./data/data_1x\""
   ]
  },
  {
   "cell_type": "code",
   "execution_count": 4,
   "metadata": {},
   "outputs": [],
   "source": [
    "def readBlock(file, num_samples):\n",
    "    \"\"\" \n",
    "    Read the next FFT sized block of 16-bit I/Q data from an opened file.\n",
    "    \n",
    "    Arguments:\n",
    "        file - The reference to the data file, already opened.\n",
    "        num_samples - The number of 16-bit I/Q samples to read in.\n",
    "            Example, If you FFT SIZE is 1024, the num_samples should\n",
    "            be 1024. 2048 16-bit samples (4096 bytes total) will be \n",
    "            read and unpacked from the file.\n",
    "            \n",
    "        Return - A Numpy array of \"num_samples\" Complex64 values.\n",
    "            None if the read is past the end of the file.\n",
    "    \n",
    "    \"\"\"\n",
    "    # Read the bytes from the file\n",
    "    data_raw = np.fromfile(file, dtype=np.int16, count=num_samples*2)\n",
    "    \n",
    "    # Create a Complex64 Numpy array to hold the values\n",
    "    data = np.zeros((num_samples,), dtype=np.complex64)\n",
    "    \n",
    "    # Reassemble the int16 aray into the Complex64 array.\n",
    "    # Use a try block to catch the condition where the end of the file\n",
    "    # has been passed.\n",
    "    try:\n",
    "        data[:] = (data_raw[0::2]) + 1j*(data_raw[1::2])\n",
    "    except:\n",
    "        return None\n",
    "    \n",
    "    return data"
   ]
  },
  {
   "cell_type": "code",
   "execution_count": 5,
   "metadata": {},
   "outputs": [],
   "source": [
    "def calFreqRangeForAxis(center_hz, bw_hz):\n",
    "    \n",
    "    \"\"\"\n",
    "    For the X axis tick mark labels, calculate the frequency min/max/center\n",
    "    \n",
    "    Arguments:\n",
    "        center_hz - The center frequency of the signal, in Hertz.\n",
    "        bw_hz - The bandwidth of the signal, in Hertz.\n",
    "        \n",
    "    Returns - A tuple of the \n",
    "        min frequency od the signal, in MHz\n",
    "        max frequency od the signal, in MHz\n",
    "        center frequency od the signal, in MHz\n",
    "        \n",
    "    \"\"\"\n",
    "    min_hz = center_hz - bw_hz/2.0\n",
    "    max_hz = center_hz + bw_hz/2.0\n",
    "    \n",
    "    return (min_hz/1000000.0, max_hz/1000000., center_hz/1000000.)"
   ]
  },
  {
   "cell_type": "code",
   "execution_count": null,
   "metadata": {},
   "outputs": [],
   "source": [
    "# Perform the FFT and store the result for later plotting.\n",
    "# The FFT result will be accumulated in a one dimensional Numpy array\n",
    "# of length equal to the FFT_SIZE\n",
    "\n",
    "# Define some constants. Here you may wish to change the FFT_SIZE\n",
    "FFT_SIZE = 1024*512\n",
    "CENTER_FREQ_HZ = 1296000000\n",
    "BANDWIDTH_HZ   = 1920000\n",
    "MHZ = 1048576.0\n",
    "\n",
    "# Create an array to hold the data for each horizontal line of the waterfall\n",
    "bins = []\n",
    "\n",
    "# How many FFT_SIZE chunks to process. Ideally we would like to\n",
    "# process the entire channel, but during code development we may\n",
    "# wish to read in a smaller number. Reading in the large data files\n",
    "# takes a lot of time.\n",
    "NUM = 10000\n",
    "\n",
    "# Open the file\n",
    "file = open(data_file_path, \"rb\")\n",
    "\n",
    "# Keep a counter of the number of FFT_SIZE length chunks we processed.\n",
    "count = 0\n",
    "\n",
    "# Loop through the file. \n",
    "for i in range(NUM):\n",
    "    \n",
    "    #print(i)\n",
    "    \n",
    "    # Read the next block of data from the file\n",
    "    d = readBlock(file, FFT_SIZE)\n",
    "    \n",
    "    # If None is retruned, this signifies we read to the end of the file.\n",
    "    # Break out of the loop.\n",
    "    if d is None:\n",
    "        print(\"d is NONE\")\n",
    "        break\n",
    "        \n",
    "    yf = scipy.fftpack.fft(d, n=FFT_SIZE, axis=0)\n",
    "    xx = np.abs(yf).tolist()\n",
    "    yy = scipy.fft.fftshift(xx)\n",
    "    bins.append(yy)\n",
    "\n",
    "    # Draw a plot of the results\n",
    "    \n",
    "fig, ax = plt.subplots(1,1)\n",
    "\n",
    "ax.imshow(bins)\n",
    "\n",
    "# Show!\n",
    "plt.show()\n",
    " "
   ]
  },
  {
   "cell_type": "code",
   "execution_count": null,
   "metadata": {},
   "outputs": [],
   "source": []
  }
 ],
 "metadata": {
  "kernelspec": {
   "display_name": "PythonData",
   "language": "python",
   "name": "pythondata"
  },
  "language_info": {
   "codemirror_mode": {
    "name": "ipython",
    "version": 3
   },
   "file_extension": ".py",
   "mimetype": "text/x-python",
   "name": "python",
   "nbconvert_exporter": "python",
   "pygments_lexer": "ipython3",
   "version": "3.7.7"
  }
 },
 "nbformat": 4,
 "nbformat_minor": 4
}
